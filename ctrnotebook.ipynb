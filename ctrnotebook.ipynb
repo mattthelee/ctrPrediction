{
 "cells": [
  {
   "cell_type": "code",
   "execution_count": 1,
   "metadata": {},
   "outputs": [],
   "source": [
    "import pandas as pd\n",
    "from sklearn.model_selection import train_test_split"
   ]
  },
  {
   "cell_type": "code",
   "execution_count": 2,
   "metadata": {},
   "outputs": [],
   "source": [
    "trainDf = pd.read_csv('/import/scratch/mdl31/ctrdata/train')"
   ]
  },
  {
   "cell_type": "code",
   "execution_count": 3,
   "metadata": {},
   "outputs": [],
   "source": [
    "# One-hotencode the categorical variables:\n",
    "hourSeries = trainDf['hour']\n",
    "idSeries = trainDf['id']\n",
    "ySeries = trainDf['click']"
   ]
  },
  {
   "cell_type": "code",
   "execution_count": 4,
   "metadata": {},
   "outputs": [],
   "source": [
    "trainDf = trainDf.drop('hour', axis = 1)\n",
    "trainDf = trainDf.drop('id', axis = 1)\n",
    "trainDf = trainDf.drop('click', axis = 1)\n",
    "\n",
    "\n",
    "# Removing these as there are too many categories\n",
    "# TODO could try to group into broad categories, e.g. take top 5 commonest categroies, and put the rest under 'other' token\n",
    "trainDf = trainDf.drop('device_id', axis = 1)\n",
    "trainDf = trainDf.drop('device_ip', axis = 1)\n",
    "trainDf = trainDf.drop('device_model', axis = 1)\n",
    "trainDf = trainDf.drop('site_id', axis = 1)\n",
    "trainDf = trainDf.drop('site_domain', axis = 1)\n",
    "trainDf = trainDf.drop('app_id', axis = 1)\n",
    "trainDf = trainDf.drop('app_domain', axis = 1)\n",
    "trainDf = trainDf.drop('C14', axis = 1)\n",
    "trainDf = trainDf.drop('C17', axis = 1)\n",
    "trainDf = trainDf.drop('C19', axis = 1) # only 68 values so might want\n",
    "trainDf = trainDf.drop('C20', axis = 1)"
   ]
  },
  {
   "cell_type": "code",
   "execution_count": 5,
   "metadata": {},
   "outputs": [
    {
     "data": {
      "text/plain": [
       "Index(['C1', 'banner_pos', 'site_category', 'app_category', 'device_type',\n",
       "       'device_conn_type', 'C15', 'C16', 'C18', 'C21'],\n",
       "      dtype='object')"
      ]
     },
     "execution_count": 5,
     "metadata": {},
     "output_type": "execute_result"
    }
   ],
   "source": [
    "trainDf.columns"
   ]
  },
  {
   "cell_type": "code",
   "execution_count": null,
   "metadata": {},
   "outputs": [],
   "source": []
  },
  {
   "cell_type": "code",
   "execution_count": 6,
   "metadata": {},
   "outputs": [
    {
     "name": "stdout",
     "output_type": "stream",
     "text": [
      "C1\n",
      "7\n",
      "banner_pos\n",
      "7\n",
      "site_category\n",
      "26\n",
      "app_category\n",
      "36\n",
      "device_type\n",
      "5\n",
      "device_conn_type\n",
      "4\n",
      "C15\n",
      "8\n",
      "C16\n",
      "9\n",
      "C18\n",
      "4\n",
      "C21\n",
      "60\n",
      "15850598400\n"
     ]
    }
   ],
   "source": [
    "combs = 1\n",
    "for col in trainDf.columns:\n",
    "    print(col)\n",
    "    length = len(trainDf[col].value_counts())\n",
    "    combs *= length\n",
    "    print(length)"
   ]
  },
  {
   "cell_type": "code",
   "execution_count": 7,
   "metadata": {},
   "outputs": [],
   "source": [
    "trainDf = pd.get_dummies(trainDf, columns = trainDf.columns, drop_first=True)"
   ]
  },
  {
   "cell_type": "code",
   "execution_count": 8,
   "metadata": {},
   "outputs": [
    {
     "data": {
      "text/plain": [
       "156"
      ]
     },
     "execution_count": 8,
     "metadata": {},
     "output_type": "execute_result"
    }
   ],
   "source": [
    "len(trainDf.columns)"
   ]
  },
  {
   "cell_type": "code",
   "execution_count": 9,
   "metadata": {},
   "outputs": [],
   "source": [
    "trainDf['hour'] = hourSeries\n",
    "trainDf['id'] = idSeries\n",
    "del hourSeries\n",
    "del idSeries"
   ]
  },
  {
   "cell_type": "code",
   "execution_count": 10,
   "metadata": {},
   "outputs": [],
   "source": [
    "# Create validation dataset\n",
    "x_train, x_val, y_train, y_val = train_test_split(trainDf, ySeries, stratify = ySeries)\n",
    "del trainDf"
   ]
  },
  {
   "cell_type": "code",
   "execution_count": 14,
   "metadata": {},
   "outputs": [
    {
     "data": {
      "text/plain": [
       "pandas.core.frame.DataFrame"
      ]
     },
     "execution_count": 14,
     "metadata": {},
     "output_type": "execute_result"
    }
   ],
   "source": []
  },
  {
   "cell_type": "code",
   "execution_count": null,
   "metadata": {},
   "outputs": [],
   "source": [
    "# Now to start building a model\n",
    "from sklearn.linear_model import SGDClassifier\n",
    "model = SGDClassifier()\n",
    "model.fit(x_train,y_train)"
   ]
  },
  {
   "cell_type": "code",
   "execution_count": null,
   "metadata": {},
   "outputs": [],
   "source": []
  }
 ],
 "metadata": {
  "kernelspec": {
   "display_name": "Python 3",
   "language": "python",
   "name": "python3"
  },
  "language_info": {
   "codemirror_mode": {
    "name": "ipython",
    "version": 3
   },
   "file_extension": ".py",
   "mimetype": "text/x-python",
   "name": "python",
   "nbconvert_exporter": "python",
   "pygments_lexer": "ipython3",
   "version": "3.6.6"
  }
 },
 "nbformat": 4,
 "nbformat_minor": 2
}
