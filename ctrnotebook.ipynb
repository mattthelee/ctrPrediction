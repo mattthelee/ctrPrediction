{
 "cells": [
  {
   "cell_type": "code",
   "execution_count": 1,
   "metadata": {},
   "outputs": [
    {
     "name": "stderr",
     "output_type": "stream",
     "text": [
      "Using TensorFlow backend.\n"
     ]
    }
   ],
   "source": [
    "import pandas as pd\n",
    "from sklearn.model_selection import train_test_split\n",
    "from sklearn.linear_model import SGDClassifier\n",
    "from sklearn.metrics import accuracy_score\n",
    "from keras.layers import Dense, Input\n",
    "from keras import Sequential"
   ]
  },
  {
   "cell_type": "code",
   "execution_count": 2,
   "metadata": {},
   "outputs": [],
   "source": [
    "trainDf = pd.read_csv('/import/scratch/mdl31/ctrdata/train')"
   ]
  },
  {
   "cell_type": "code",
   "execution_count": 3,
   "metadata": {},
   "outputs": [],
   "source": [
    "# One-hotencode the categorical variables:\n",
    "hourSeries = trainDf['hour']\n",
    "idSeries = trainDf['id']\n",
    "ySeries = trainDf['click']"
   ]
  },
  {
   "cell_type": "code",
   "execution_count": 4,
   "metadata": {},
   "outputs": [],
   "source": [
    "trainDf = trainDf.drop('hour', axis = 1)\n",
    "trainDf = trainDf.drop('id', axis = 1)\n",
    "trainDf = trainDf.drop('click', axis = 1)\n",
    "\n",
    "\n",
    "# Removing these as there are too many categories\n",
    "# TODO could try to group into broad categories, e.g. take top 5 commonest categroies, and put the rest under 'other' token\n",
    "trainDf = trainDf.drop('device_id', axis = 1)\n",
    "trainDf = trainDf.drop('device_ip', axis = 1)\n",
    "trainDf = trainDf.drop('device_model', axis = 1)\n",
    "trainDf = trainDf.drop('site_id', axis = 1)\n",
    "trainDf = trainDf.drop('site_domain', axis = 1)\n",
    "trainDf = trainDf.drop('app_id', axis = 1)\n",
    "trainDf = trainDf.drop('app_domain', axis = 1)\n",
    "trainDf = trainDf.drop('C14', axis = 1)\n",
    "trainDf = trainDf.drop('C17', axis = 1)\n",
    "trainDf = trainDf.drop('C19', axis = 1) # only 68 values so might want\n",
    "trainDf = trainDf.drop('C20', axis = 1)"
   ]
  },
  {
   "cell_type": "code",
   "execution_count": null,
   "metadata": {},
   "outputs": [],
   "source": []
  },
  {
   "cell_type": "code",
   "execution_count": null,
   "metadata": {},
   "outputs": [],
   "source": []
  },
  {
   "cell_type": "code",
   "execution_count": null,
   "metadata": {},
   "outputs": [],
   "source": [
    "combs = 1\n",
    "for col in trainDf.columns:\n",
    "    print(col)\n",
    "    length = len(trainDf[col].value_counts())\n",
    "    combs *= length\n",
    "    print(length)"
   ]
  },
  {
   "cell_type": "code",
   "execution_count": 6,
   "metadata": {},
   "outputs": [],
   "source": [
    "trainDf = pd.get_dummies(trainDf, columns = trainDf.columns, drop_first=True)"
   ]
  },
  {
   "cell_type": "code",
   "execution_count": 7,
   "metadata": {},
   "outputs": [
    {
     "data": {
      "text/plain": [
       "156"
      ]
     },
     "execution_count": 7,
     "metadata": {},
     "output_type": "execute_result"
    }
   ],
   "source": [
    "len(trainDf.columns)"
   ]
  },
  {
   "cell_type": "code",
   "execution_count": 8,
   "metadata": {},
   "outputs": [],
   "source": [
    "trainDf['hour'] = hourSeries\n",
    "#trainDf['id'] = idSeries\n",
    "del hourSeries\n"
   ]
  },
  {
   "cell_type": "code",
   "execution_count": 9,
   "metadata": {},
   "outputs": [],
   "source": [
    "# Create validation dataset\n",
    "x_train, x_val, y_train, y_val = train_test_split(trainDf, ySeries, stratify = ySeries)\n",
    "del trainDf"
   ]
  },
  {
   "cell_type": "code",
   "execution_count": null,
   "metadata": {},
   "outputs": [],
   "source": []
  },
  {
   "cell_type": "code",
   "execution_count": null,
   "metadata": {},
   "outputs": [],
   "source": [
    "'''# Now to start building a model\n",
    "from sklearn.linear_model import SGDClassifier\n",
    "model = SGDClassifier(max_iter=2, loss='hinge')\n",
    "model.fit(x_train,y_train)\n",
    "y_train_pred = model.pred(x_train)\n",
    "accuracy_score(y_train,y_train_pred)'''"
   ]
  },
  {
   "cell_type": "code",
   "execution_count": null,
   "metadata": {},
   "outputs": [],
   "source": []
  },
  {
   "cell_type": "code",
   "execution_count": null,
   "metadata": {},
   "outputs": [],
   "source": []
  },
  {
   "cell_type": "code",
   "execution_count": 10,
   "metadata": {},
   "outputs": [
    {
     "name": "stdout",
     "output_type": "stream",
     "text": [
      "WARNING:tensorflow:From /import/linux/python/3.6.6/lib/python3.6/site-packages/tensorflow/python/framework/op_def_library.py:263: colocate_with (from tensorflow.python.framework.ops) is deprecated and will be removed in a future version.\n",
      "Instructions for updating:\n",
      "Colocations handled automatically by placer.\n",
      "_________________________________________________________________\n",
      "Layer (type)                 Output Shape              Param #   \n",
      "=================================================================\n",
      "dense_1 (Dense)              (None, 1024)              161792    \n",
      "_________________________________________________________________\n",
      "dense_2 (Dense)              (None, 512)               524800    \n",
      "_________________________________________________________________\n",
      "dense_3 (Dense)              (None, 256)               131328    \n",
      "_________________________________________________________________\n",
      "dense_4 (Dense)              (None, 1)                 257       \n",
      "=================================================================\n",
      "Total params: 818,177\n",
      "Trainable params: 818,177\n",
      "Non-trainable params: 0\n",
      "_________________________________________________________________\n"
     ]
    }
   ],
   "source": [
    "nnModel = Sequential()\n",
    "nnModel.add(Dense(1024, input_shape=(len(x_train.columns),), activation='relu'))\n",
    "nnModel.add(Dense(512, activation='relu'))\n",
    "nnModel.add(Dense(256, activation='relu'))\n",
    "nnModel.add(Dense(1,   activation='sigmoid'))\n",
    "nnModel.compile(optimizer='adam', metrics=['accuracy'],loss='binary_crossentropy')\n",
    "nnModel.summary()\n"
   ]
  },
  {
   "cell_type": "code",
   "execution_count": null,
   "metadata": {},
   "outputs": [
    {
     "name": "stdout",
     "output_type": "stream",
     "text": [
      "WARNING:tensorflow:From /import/linux/python/3.6.6/lib/python3.6/site-packages/tensorflow/python/ops/math_ops.py:3066: to_int32 (from tensorflow.python.ops.math_ops) is deprecated and will be removed in a future version.\n",
      "Instructions for updating:\n",
      "Use tf.cast instead.\n",
      "Epoch 1/10\n",
      " 3198720/30321725 [==>...........................] - ETA: 17:55 - loss: 2.7397 - acc: 0.8300"
     ]
    }
   ],
   "source": [
    "nnModel.fit(x_train,y_train, batch_size = 256, epochs = 10)"
   ]
  },
  {
   "cell_type": "code",
   "execution_count": null,
   "metadata": {},
   "outputs": [],
   "source": []
  },
  {
   "cell_type": "code",
   "execution_count": null,
   "metadata": {},
   "outputs": [],
   "source": []
  }
 ],
 "metadata": {
  "kernelspec": {
   "display_name": "ctr",
   "language": "python",
   "name": "ctr"
  },
  "language_info": {
   "codemirror_mode": {
    "name": "ipython",
    "version": 3
   },
   "file_extension": ".py",
   "mimetype": "text/x-python",
   "name": "python",
   "nbconvert_exporter": "python",
   "pygments_lexer": "ipython3",
   "version": "3.6.6"
  }
 },
 "nbformat": 4,
 "nbformat_minor": 2
}
